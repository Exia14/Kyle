{
  "nbformat": 4,
  "nbformat_minor": 0,
  "metadata": {
    "colab": {
      "provenance": [],
      "authorship_tag": "ABX9TyNH3hgobmC7gHWpmwDiuBaM",
      "include_colab_link": true
    },
    "kernelspec": {
      "name": "python3",
      "display_name": "Python 3"
    },
    "language_info": {
      "name": "python"
    }
  },
  "cells": [
    {
      "cell_type": "markdown",
      "metadata": {
        "id": "view-in-github",
        "colab_type": "text"
      },
      "source": [
        "<a href=\"https://colab.research.google.com/github/Exia14/Kyle/blob/main/Python_Assignment_1.ipynb\" target=\"_parent\"><img src=\"https://colab.research.google.com/assets/colab-badge.svg\" alt=\"Open In Colab\"/></a>"
      ]
    },
    {
      "cell_type": "code",
      "execution_count": null,
      "metadata": {
        "id": "dJXTV4kJRbBF",
        "colab": {
          "base_uri": "https://localhost:8080/"
        },
        "outputId": "ddf2d0fb-bafe-4c30-c4ca-529167414de4"
      },
      "outputs": [
        {
          "output_type": "stream",
          "name": "stdout",
          "text": [
            "Hello,Linguistics\n"
          ]
        }
      ],
      "source": [
        "#第一題\n",
        "print(\"Hello,Linguistics\")"
      ]
    },
    {
      "cell_type": "code",
      "source": [
        "#第二題\n",
        "Sent=\"Hello, Linguistics\"\n",
        "print(Sent.upper())\n",
        "print(Sent.lower())"
      ],
      "metadata": {
        "colab": {
          "base_uri": "https://localhost:8080/"
        },
        "id": "i1idwF8XIslg",
        "outputId": "460bba3c-e176-4d24-aef6-54f116197ae9"
      },
      "execution_count": null,
      "outputs": [
        {
          "output_type": "stream",
          "name": "stdout",
          "text": [
            "HELLO, LINGUISTICS\n",
            "hello, linguistics\n"
          ]
        }
      ]
    },
    {
      "cell_type": "code",
      "source": [
        "#第3-1題\n",
        "num = [3, 5, 1, 4, 2]\n",
        "print(num[0])\n",
        "print(num[4])"
      ],
      "metadata": {
        "colab": {
          "base_uri": "https://localhost:8080/"
        },
        "id": "lDFM4raLJf8-",
        "outputId": "220a6f2a-4cf9-4a9c-9321-22cdf86edb6a"
      },
      "execution_count": null,
      "outputs": [
        {
          "output_type": "stream",
          "name": "stdout",
          "text": [
            "3\n",
            "2\n"
          ]
        }
      ]
    },
    {
      "cell_type": "code",
      "source": [
        "#第3-2題                                                                                                                                                                         檢查 animals 裡面有沒有超過 2 隻動物，如果有的話 print (\"yes\") , 沒有的話 print (\"no\")\n",
        "\n",
        "animals_1=[\"Dog\", \"Cat\", \"Bird\", \"Tiger\", \"Elephant\"]\n",
        "animals_2=[\"Dog\"]\n",
        "if len(animals) > 2:\n",
        "    print(\"yes\")\n",
        "else:\n",
        "    print(\"no\")\n"
      ],
      "metadata": {
        "colab": {
          "base_uri": "https://localhost:8080/"
        },
        "id": "x6E2DE3GTjCr",
        "outputId": "58645097-2ad9-4b56-cac7-7b0e9faa6391"
      },
      "execution_count": null,
      "outputs": [
        {
          "output_type": "stream",
          "name": "stdout",
          "text": [
            "yes\n"
          ]
        }
      ]
    }
  ]
}