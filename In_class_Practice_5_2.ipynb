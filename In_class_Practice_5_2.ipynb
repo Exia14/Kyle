{
  "nbformat": 4,
  "nbformat_minor": 0,
  "metadata": {
    "colab": {
      "provenance": [],
      "authorship_tag": "ABX9TyOHzFiFNS4P77BRqHtbTdAm",
      "include_colab_link": true
    },
    "kernelspec": {
      "name": "python3",
      "display_name": "Python 3"
    },
    "language_info": {
      "name": "python"
    }
  },
  "cells": [
    {
      "cell_type": "markdown",
      "metadata": {
        "id": "view-in-github",
        "colab_type": "text"
      },
      "source": [
        "<a href=\"https://colab.research.google.com/github/Exia14/Kyle/blob/main/In_class_Practice_5_2.ipynb\" target=\"_parent\"><img src=\"https://colab.research.google.com/assets/colab-badge.svg\" alt=\"Open In Colab\"/></a>"
      ]
    },
    {
      "cell_type": "code",
      "source": [
        "#課堂練習1-1\n",
        "Sent=\"Today is a good day\"\n",
        "print (len(Sent))"
      ],
      "metadata": {
        "colab": {
          "base_uri": "https://localhost:8080/"
        },
        "id": "E-nfIFcwUgIP",
        "outputId": "f5a48b3c-d3e7-45b4-d95d-a48fef8baf02"
      },
      "execution_count": null,
      "outputs": [
        {
          "output_type": "stream",
          "name": "stdout",
          "text": [
            "19\n"
          ]
        }
      ]
    },
    {
      "cell_type": "code",
      "source": [
        "#課堂練習1-2\n",
        "print(Sent.lower())"
      ],
      "metadata": {
        "colab": {
          "base_uri": "https://localhost:8080/"
        },
        "id": "0CiY8QcJUxGw",
        "outputId": "8919447a-698c-42e7-c7eb-fa29851b4ed0"
      },
      "execution_count": null,
      "outputs": [
        {
          "output_type": "stream",
          "name": "stdout",
          "text": [
            "today is a good day\n"
          ]
        }
      ]
    },
    {
      "cell_type": "code",
      "source": [
        "#課堂練習1-3\n",
        "print(Sent.upper())"
      ],
      "metadata": {
        "colab": {
          "base_uri": "https://localhost:8080/"
        },
        "id": "HNhcoL-EVeiT",
        "outputId": "4e0e1ecb-5c3c-4db8-de00-46797c2eb355"
      },
      "execution_count": null,
      "outputs": [
        {
          "output_type": "stream",
          "name": "stdout",
          "text": [
            "TODAY IS A GOOD DAY\n"
          ]
        }
      ]
    },
    {
      "cell_type": "code",
      "source": [
        "#課堂練習2\n",
        "string_1=\"Fried Chicken\"\n",
        "string_2=\"Hamburger\"\n",
        "string_3= \"MilkShake\"\n",
        "print(f\"I want to eat{string_1}.I hungry\")\n",
        "print(f\"Kyle want to eat {string_2} and {string_3}.Let's go\")"
      ],
      "metadata": {
        "colab": {
          "base_uri": "https://localhost:8080/"
        },
        "id": "dPGS4w8gV6l6",
        "outputId": "0eb442ee-7c6a-43a0-adb9-980dc4a52e94"
      },
      "execution_count": null,
      "outputs": [
        {
          "output_type": "stream",
          "name": "stdout",
          "text": [
            "I want to eatFried Chicken.I hungry\n",
            "Kyle want to eat Hamburger and MilkShake.Let's go\n"
          ]
        }
      ]
    },
    {
      "cell_type": "code",
      "source": [
        "#課堂練習3\n",
        "def wordDetect(s):\n",
        "  if s == s.lower():\n",
        "    print(\"lower\")\n",
        "  elif s == s.upper():\n",
        "    print(\"upper\")\n",
        "  else:\n",
        "    print(\"mixed\")\n",
        "\n",
        "string_text = \"HOLLOW KNIGHT\"\n",
        "wordDetect(string_text)"
      ],
      "metadata": {
        "colab": {
          "base_uri": "https://localhost:8080/"
        },
        "id": "944AT-N6Fpnu",
        "outputId": "69cd2d3f-2add-4345-8ddb-6bbf1f5b37cf"
      },
      "execution_count": null,
      "outputs": [
        {
          "output_type": "stream",
          "name": "stdout",
          "text": [
            "upper\n"
          ]
        }
      ]
    }
  ]
}